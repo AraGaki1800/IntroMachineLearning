{
  "nbformat": 4,
  "nbformat_minor": 0,
  "metadata": {
    "colab": {
      "name": "“lab_eeg_partial.ipynb”的副本",
      "version": "0.3.2",
      "provenance": [],
      "collapsed_sections": []
    },
    "kernelspec": {
      "display_name": "Python 3",
      "language": "python",
      "name": "python3"
    }
  },
  "cells": [
    {
      "metadata": {
        "id": "P2OWxHvmc8gb",
        "colab_type": "text"
      },
      "cell_type": "markdown",
      "source": [
        "# Lab:  Source Localization for EEG\n",
        "\n",
        "EEG or [Electroencephalography](https://en.wikipedia.org/wiki/Electroencephalography) is a powerful tool for neuroscientists in understanding brain activity.  In EEG, a patient wears a headset with electrodes that measures voltages at a number of points on the scalp.  These voltages arise from ionic currents within the brain.  A common *inverse problem* is to estimate the which parts of the brain caused the measured response.  Source localization is useful in understanding which parts of the brain are involved in certain tasks.  A key challenge in this inverse problem is that the number of unknowns (possible locations in the brain) is much larger than the number of measurements.  In this lab, we will use LASSO regression on a real EEG dataset to overcome this problem and determine the brain region that is active under an auditory stimulus.\n",
        "\n",
        "In addition to the concepts in the [prostate LASSO demo](./demo_prostate.ipynb) you will learn to:\n",
        "* Represent responses of multi-channel time-series data, such as EEG, using linear models\n",
        "* Perform LASSO and Ridge regression\n",
        "* Select the regularization level via cross-validation\n",
        "* Visually compare the sparsity between the solutions\n",
        "\n",
        "We first download standard packages."
      ]
    },
    {
      "metadata": {
        "id": "aaEj_5vmc8gd",
        "colab_type": "code",
        "colab": {}
      },
      "cell_type": "code",
      "source": [
        "import numpy as np\n",
        "import matplotlib.pyplot as plt\n",
        "import pickle\n",
        "\n",
        "from sklearn.linear_model import Lasso, Ridge, ElasticNet\n",
        "from sklearn.metrics import r2_score\n",
        "from sklearn.model_selection import train_test_split"
      ],
      "execution_count": 0,
      "outputs": []
    },
    {
      "metadata": {
        "id": "wsfjDjhOc8gg",
        "colab_type": "text"
      },
      "cell_type": "markdown",
      "source": [
        "## Load the Data\n",
        "\n",
        "The data in this lab is taken from one of the sample datasets in the [MNE website](https://martinos.org/mne/stable/index.html). The sample data is a recording from one subject who experienced some auditory stimulus on the left ear.    \n",
        "\n",
        "The raw data is very large (`1.5G`) and also requires that you install the `mne` python package. To make this lab easier, I have extracted and processed a small section of the data. The following command will download a `pickle` file `eeg_dat.p` to your local machine.  If you do want to create the data yourself, the program to create the data is in this directory in the github repository."
      ]
    },
    {
      "metadata": {
        "id": "lEfrxtaUc8gh",
        "colab_type": "code",
        "outputId": "a3c0c200-27a6-4b1a-e4c5-af7d1375f8b4",
        "colab": {
          "base_uri": "https://localhost:8080/",
          "height": 52
        }
      },
      "cell_type": "code",
      "source": [
        "fn_src ='https://drive.google.com/uc?export=download&id=1RzQpKONOcXSMxH2ZzOI4iVMiTgD6ttSl'\n",
        "fn_dst ='eeg_dat.p'\n",
        "\n",
        "import os\n",
        "from six.moves import urllib\n",
        "\n",
        "if os.path.isfile(fn_dst):\n",
        "    print('File %s is already downloaded' % fn_dst)\n",
        "else:        \n",
        "    print('Fetching file %s [53MB].  This may take a minute..' % fn_dst)\n",
        "    urllib.request.urlretrieve(fn_src, fn_dst)\n",
        "    print('File %s downloaded' % fn_dst)"
      ],
      "execution_count": 4,
      "outputs": [
        {
          "output_type": "stream",
          "text": [
            "Fetching file eeg_dat.p [53MB].  This may take a minute..\n",
            "File eeg_dat.p downloaded\n"
          ],
          "name": "stdout"
        }
      ]
    },
    {
      "metadata": {
        "id": "GkE_SXcDc8gn",
        "colab_type": "text"
      },
      "cell_type": "markdown",
      "source": [
        "Now run the following command which will get the data from the `pickle` file."
      ]
    },
    {
      "metadata": {
        "id": "mL1iZXYFc8go",
        "colab_type": "code",
        "colab": {}
      },
      "cell_type": "code",
      "source": [
        "import pickle\n",
        "fn = 'eeg_dat.p'\n",
        "with open(fn, 'rb') as fp:\n",
        "    [X,Y] = pickle.load(fp)"
      ],
      "execution_count": 0,
      "outputs": []
    },
    {
      "metadata": {
        "id": "LAZLQoodc8gr",
        "colab_type": "text"
      },
      "cell_type": "markdown",
      "source": [
        "To understand the data, there are three key variables:\n",
        "* `nt`    = number of time steps that we measure data\n",
        "* `nchan` = number of channels (i.e. electrodes) measured in each time step\n",
        "* `ncur`  = number of currents in the brain that we want to estimate.  \n",
        "\n",
        "Each current comes from one brain region (called a *voxel*) in either the `x`, `y` or `z` direction.  So,\n",
        "\n",
        "    nvoxels = ncur / 3\n",
        "    \n",
        "The components of the `X` and `Y` matrices are:\n",
        "*  `Y[i,k]` = electric field measurement on channel `i` at time `k`\n",
        "*  `X[i,j]` = sensitivity of channel `i` to current `j`.\n",
        "\n",
        "Using `X.shape` and `Y.shape` compute and print `nt`, `nchan`, `ncur` and `nvoxels`."
      ]
    },
    {
      "metadata": {
        "id": "1idF6RKRc8gs",
        "colab_type": "code",
        "colab": {}
      },
      "cell_type": "code",
      "source": [
        "# TODO\n",
        "# nt = ...\n",
        "# ncur = ...\n",
        "# nchan = ...\n",
        "# nvoxels\n",
        "\n",
        "nt = Y.shape[1]\n",
        "nchan = X.shape[0]\n",
        "ncur = X.shape[1]\n",
        "nvoxels = ncur / 3"
      ],
      "execution_count": 0,
      "outputs": []
    },
    {
      "metadata": {
        "id": "xsAeQhZAc8gu",
        "colab_type": "text"
      },
      "cell_type": "markdown",
      "source": [
        "## Ridge Regression\n",
        "\n",
        "Our goal is to estimate the currents in the brain from the measurements `Y`.  One simple linear model is:\n",
        "\n",
        "    Y[i,k]  = \\sum_j X[i,j]*W[j,k]+ b[k]\n",
        "\n",
        "where `W[j,k]` is the value of current `j` at time `k` and `b[k]` is a bias.  We can solve for the current matrix `W` via linear regression.  \n",
        "\n",
        "Howeever, there is a problem:\n",
        "*  There are `nt x ncur` unknowns in `W`\n",
        "*  There are only `nt x nchan` measurements in `Y`.\n",
        "\n",
        "In this problem, we have:\n",
        "\n",
        "    number of measurements  << number of unknowns\n",
        "    \n",
        "We need to use regularization in these circumstances.  We first try Ridge regression.\n",
        "\n",
        "First split the data into training and test.  Use the `train_test_split` function with `test_size=0.33`."
      ]
    },
    {
      "metadata": {
        "id": "YqG2hlwdc8gv",
        "colab_type": "code",
        "colab": {}
      },
      "cell_type": "code",
      "source": [
        "# TODO\n",
        "# Xtr,Xts,Ytr,Yts = train_test_split(...) \n",
        "\n",
        "Xtr,Xts,Ytr,Yts = train_test_split(X,Y,test_size=0.33,shuffle=True)"
      ],
      "execution_count": 0,
      "outputs": []
    },
    {
      "metadata": {
        "id": "sCvZE2NKc8g3",
        "colab_type": "text"
      },
      "cell_type": "markdown",
      "source": [
        "Use the `Ridge` regression object in `sklearn` to fit the model on the training data.  Use a regularization, `alpha=1`."
      ]
    },
    {
      "metadata": {
        "id": "-HbvwarPc8g5",
        "colab_type": "code",
        "colab": {
          "base_uri": "https://localhost:8080/",
          "height": 52
        },
        "outputId": "b2b80a0c-65cf-4780-f4c2-d375b7355d34"
      },
      "cell_type": "code",
      "source": [
        "# TODO\n",
        "# regr = Ridge(...)\n",
        "\n",
        "regr = Ridge()\n",
        "regr.fit(Xtr,Ytr)"
      ],
      "execution_count": 14,
      "outputs": [
        {
          "output_type": "execute_result",
          "data": {
            "text/plain": [
              "Ridge(alpha=1.0, copy_X=True, fit_intercept=True, max_iter=None,\n",
              "   normalize=False, random_state=None, solver='auto', tol=0.001)"
            ]
          },
          "metadata": {
            "tags": []
          },
          "execution_count": 14
        }
      ]
    },
    {
      "metadata": {
        "id": "fAkPanskc8g8",
        "colab_type": "text"
      },
      "cell_type": "markdown",
      "source": [
        "Preict the values `Y` on both the training and test data.  Use the `r2_score` method to measure the `R^2` value on both the training and test.  You will see that `R^2` value is large for the training data, it is very low for the test data.  This suggest that even with regularization, the model is over-fitting the data."
      ]
    },
    {
      "metadata": {
        "id": "rWwPwpW2c8g-",
        "colab_type": "code",
        "colab": {
          "base_uri": "https://localhost:8080/",
          "height": 52
        },
        "outputId": "90f3318e-29b9-457c-eba9-c4e07cf87373"
      },
      "cell_type": "code",
      "source": [
        "# TODO\n",
        "# rsq_tr = ...\n",
        "# rsq_ts = ...\n",
        "\n",
        "Ytr_pred = regr.predict(Xtr)\n",
        "Yts_pred = regr.predict(Xts)\n",
        "\n",
        "rsq_tr = r2_score(Ytr, Ytr_pred)\n",
        "rsq_ts = r2_score(Yts, Yts_pred)\n",
        "print(\"R^2 value of training data is %f\" % rsq_tr)\n",
        "print(\"R^2 value of test data is %f\" % rsq_ts)"
      ],
      "execution_count": 15,
      "outputs": [
        {
          "output_type": "stream",
          "text": [
            "R^2 value of training data is 0.583092\n",
            "R^2 value of test data is 0.140227\n"
          ],
          "name": "stdout"
        }
      ]
    },
    {
      "metadata": {
        "id": "SfM9caTHc8hB",
        "colab_type": "text"
      },
      "cell_type": "markdown",
      "source": [
        "Next, try to see if we can get a better `R^2` score using different values of `alpha`.  Use cross-validation to measure the test `R^2` for 20 `alpha` values logarithmically spaced from `10^{-2}` to `10^{2}` (use `np.logspace()`).  You can use regular cross-validation.  You do not need to do `K`-fold."
      ]
    },
    {
      "metadata": {
        "id": "UYta1_Vrc8hC",
        "colab_type": "code",
        "colab": {
          "base_uri": "https://localhost:8080/",
          "height": 365
        },
        "outputId": "3fc2eced-1cd0-4434-8f9c-0da424e7fa41"
      },
      "cell_type": "code",
      "source": [
        "# TODO\n",
        "\n",
        "nalpha = 20\n",
        "alphas = np.logspace(-2,2,nalpha)\n",
        "rsq_ts = np.zeros(nalpha)\n",
        "\n",
        "for ia, a in enumerate(alphas):\n",
        "  regr = Ridge(alpha=a)\n",
        "  regr.fit(Xtr,Ytr)\n",
        "  \n",
        "  Yts_pred = regr.predict(Xts)\n",
        "  \n",
        "  rsq_ts[ia] = r2_score(Yts, Yts_pred)\n",
        "\n",
        "plt.plot(np.log10(alphas), rsq_ts)\n",
        "plt.xlabel('log10(alpha)')\n",
        "plt.ylabel('R^2')\n",
        "plt.grid()\n",
        "plt.show()"
      ],
      "execution_count": 18,
      "outputs": [
        {
          "output_type": "display_data",
          "data": {
            "image/png": "[encoded data removed]",
            "text/plain": [
              "<Figure size 576x396 with 1 Axes>"
            ]
          },
          "metadata": {
            "tags": []
          }
        }
      ]
    },
    {
      "metadata": {
        "id": "oK8pCgsQc8hF",
        "colab_type": "text"
      },
      "cell_type": "markdown",
      "source": [
        "\n",
        "Plot the test `R^2` vs. `alpha`.  And print the maximum test `R^2`.  You should see that the maximum test `R^2` is still not very high."
      ]
    },
    {
      "metadata": {
        "id": "H5LBehnvc8hG",
        "colab_type": "code",
        "colab": {
          "base_uri": "https://localhost:8080/",
          "height": 34
        },
        "outputId": "63a92f53-ba06-48f9-845c-e20189d72ab1"
      },
      "cell_type": "code",
      "source": [
        "# TODO\n",
        "print(np.max(rsq_ts))"
      ],
      "execution_count": 19,
      "outputs": [
        {
          "output_type": "stream",
          "text": [
            "0.176793993737921\n"
          ],
          "name": "stdout"
        }
      ]
    },
    {
      "metadata": {
        "id": "idc47TQZc8hI",
        "colab_type": "text"
      },
      "cell_type": "markdown",
      "source": [
        "Now, let's take a look at the solution. \n",
        "\n",
        "* Find the optimal regularization `alpha` from the cross-validation\n",
        "* Re-fit the model at the optimal `alpha`\n",
        "* Get the current matrix `W` from the coefficients in the linear model.  These are stored in `regr.coef_`.  You may need a transpose\n",
        "* For each current `j` compute `Wrms[j] =  sqrt( sum_k W[j,k]**2 )` which is root mean squared current.\n",
        "\n",
        "You will see that the vector `Wrms` is not sparse.  This means that the solution that is found with Ridge regression finds currents in all locations."
      ]
    },
    {
      "metadata": {
        "id": "nIfjR1Vxc8hJ",
        "colab_type": "code",
        "colab": {
          "base_uri": "https://localhost:8080/",
          "height": 34
        },
        "outputId": "831a9362-e7fd-4dfb-987b-d9d70bfa43f6"
      },
      "cell_type": "code",
      "source": [
        "# TODO\n",
        "\n",
        "ia_opt = np.argmax(rsq_ts)\n",
        "\n",
        "alpha_opt = alphas[ia_opt]\n",
        "\n",
        "regr = Ridge(alpha=alpha_opt)\n",
        "regr.fit(Xtr,Ytr)\n",
        "\n",
        "W = np.transpose(regr.coef_)\n",
        "\n",
        "Wrms = np.sqrt(np.sum(W ** 2, axis=1))\n",
        "print(Wrms)\n"
      ],
      "execution_count": 27,
      "outputs": [
        {
          "output_type": "stream",
          "text": [
            "[0.28597578 0.12043547 0.15640209 ... 0.05161725 0.05682737 0.05949516]\n"
          ],
          "name": "stdout"
        }
      ]
    },
    {
      "metadata": {
        "id": "oL_s7rquc8hL",
        "colab_type": "text"
      },
      "cell_type": "markdown",
      "source": [
        "## LASSO Regression\n",
        "\n",
        "We can improve the estimate by imposing sparsity.  Biologically, we know that only a limited number of brain regions should be involved in the reponse to a particular stimuli.  As a result, we would expect that the current matrix `W[j,k]` to be zero for most values `j,k`.  We can impose this constraint using LASSO regularization.\n",
        "\n",
        "Re-fit the training data using the `Lasso` model with `alpha=1e-3`.  Also set `max_iter=100` and `tol=0.01`.  The LASSO solver is much slower, so this make take a minute."
      ]
    },
    {
      "metadata": {
        "id": "mYr4-12bc8hM",
        "colab_type": "code",
        "colab": {
          "base_uri": "https://localhost:8080/",
          "height": 70
        },
        "outputId": "0103f116-4227-4e98-d3f3-3af118ac5733"
      },
      "cell_type": "code",
      "source": [
        "# TODO\n",
        "\n",
        "regr = Lasso(alpha=1e-3, max_iter=100, tol=0.01)\n",
        "\n",
        "regr.fit(Xtr,Ytr)"
      ],
      "execution_count": 26,
      "outputs": [
        {
          "output_type": "execute_result",
          "data": {
            "text/plain": [
              "Lasso(alpha=0.001, copy_X=True, fit_intercept=True, max_iter=100,\n",
              "   normalize=False, positive=False, precompute=False, random_state=None,\n",
              "   selection='cyclic', tol=0.01, warm_start=False)"
            ]
          },
          "metadata": {
            "tags": []
          },
          "execution_count": 26
        }
      ]
    },
    {
      "metadata": {
        "id": "ZlQKLcxZc8hO",
        "colab_type": "text"
      },
      "cell_type": "markdown",
      "source": [
        "Now, test the model on the test data and measure the `R^2` value.  You should get a much better fit than with the Ridge regression solution.  "
      ]
    },
    {
      "metadata": {
        "id": "RyfGsYK7c8hP",
        "colab_type": "code",
        "colab": {
          "base_uri": "https://localhost:8080/",
          "height": 34
        },
        "outputId": "7c66d86e-2c4f-4df5-fdae-b266d269db1a"
      },
      "cell_type": "code",
      "source": [
        "# TODO\n",
        "\n",
        "Yts_pred = regr.predict(Xts)\n",
        "\n",
        "rsq_rs = r2_score(Yts,Yts_pred)\n",
        "print(rsq_rs)"
      ],
      "execution_count": 28,
      "outputs": [
        {
          "output_type": "stream",
          "text": [
            "0.176793993737921\n"
          ],
          "name": "stdout"
        }
      ]
    },
    {
      "metadata": {
        "id": "8H8Qmc5Rc8hR",
        "colab_type": "text"
      },
      "cell_type": "markdown",
      "source": [
        "We can now search for the optimal `alpha`.  Use cross-validation to find the `alpha` logarithically space between `alpha=10^{-3}` and `alpha=10^{-4}`.  Each fit takes some time, so use only 5 values of `alpha`. Also for each `alpha` store the current matrix.  This way, you will not have to re-fit the model."
      ]
    },
    {
      "metadata": {
        "id": "CbCdRW7Pc8hS",
        "colab_type": "code",
        "colab": {}
      },
      "cell_type": "code",
      "source": [
        "# TODO\n",
        "\n",
        "nalpha = 5\n",
        "alphas = np.logspace(-4,-3,nalpha)\n",
        "rsq_ts = np.zeros(nalpha)\n",
        "W = np.zeros((nalpha,Xtr.shape[1],Ytr.shape[1]))\n",
        "\n",
        "for ia, a in enumerate(alphas):\n",
        "  regr = Lasso(alpha=a, max_iter=100, tol=0.01)\n",
        "  regr.fit(Xtr,Ytr)\n",
        "  \n",
        "  Yts_pred = regr.predict(Xts)\n",
        "  \n",
        "  rsq_ts[ia] = r2_score(Yts, Yts_pred)\n",
        "  \n",
        "  W[ia,:,:] = np.transpose(regr.coef_)"
      ],
      "execution_count": 0,
      "outputs": []
    },
    {
      "metadata": {
        "id": "En8KHyepc8hW",
        "colab_type": "text"
      },
      "cell_type": "markdown",
      "source": [
        "Plot the `r^2` value vs. `alpha`.  Print the optimal `r^2`.  You should see it is much higher than with the best Ridge Regression case."
      ]
    },
    {
      "metadata": {
        "id": "ie_H8ea7c8hX",
        "colab_type": "code",
        "colab": {
          "base_uri": "https://localhost:8080/",
          "height": 376
        },
        "outputId": "931b1a61-21e6-4c3d-8c6b-f52c63683f66"
      },
      "cell_type": "code",
      "source": [
        "# TODO\n",
        "\n",
        "plt.plot(np.log10(alphas), rsq_ts)\n",
        "plt.xlabel('log10(alpha)')\n",
        "plt.ylabel('R^2')\n",
        "plt.title('R^2 by Lasso Regression')\n",
        "plt.grid()\n",
        "plt.show()"
      ],
      "execution_count": 31,
      "outputs": [
        {
          "output_type": "display_data",
          "data": {
            "image/png": "[encoded data removed]",
            "text/plain": [
              "<Figure size 576x396 with 1 Axes>"
            ]
          },
          "metadata": {
            "tags": []
          }
        }
      ]
    },
    {
      "metadata": {
        "id": "rp_hZZXXc8hc",
        "colab_type": "text"
      },
      "cell_type": "markdown",
      "source": [
        "Display the current matrix `W` for the optimal `alpha` as you did in the Ridge Regression case.  You will see that is much sparser."
      ]
    },
    {
      "metadata": {
        "id": "4QSU1xoRc8hd",
        "colab_type": "code",
        "colab": {
          "base_uri": "https://localhost:8080/",
          "height": 101
        },
        "outputId": "e39f8002-cbd9-4137-d2ac-f544c4447ec0"
      },
      "cell_type": "code",
      "source": [
        "# TODO\n",
        "for i in range(nalpha):\n",
        "  print(np.sqrt(np.sum(W[i,:,:] ** 2, axis=1)))\n"
      ],
      "execution_count": 33,
      "outputs": [
        {
          "output_type": "stream",
          "text": [
            "[1.39657282 0.         0.14293325 ... 0.         0.         0.        ]\n",
            "[1.00628153 0.         0.2436748  ... 0.         0.         0.        ]\n",
            "[0.72204826 0.         0.         ... 0.         0.         0.        ]\n",
            "[0. 0. 0. ... 0. 0. 0.]\n",
            "[0. 0. 0. ... 0. 0. 0.]\n"
          ],
          "name": "stdout"
        }
      ]
    },
    {
      "metadata": {
        "id": "ChT8F2t5c8hf",
        "colab_type": "text"
      },
      "cell_type": "markdown",
      "source": [
        "## More fun\n",
        "\n",
        "If you want to more on this lab:\n",
        "* Install the [MNE python package](https://martinos.org/mne/stable/index.html).  This is an amazing package with many tools for processing EEG data.\n",
        "* In particular, you can use the above results to visualize where in the brain the currents sources are.\n",
        "* You can also improve the fitting with more regularization.  For example, we know that the currents will be non-zero in groups:  If the current is non-zero for one time, it is likely to non-zero for all time.  You can use the Group LASSO method.\n",
        "* You can combine these results to make predictions about what the patient is seeing or hearing or thinking."
      ]
    },
    {
      "metadata": {
        "id": "uq0hYX_Kc8hh",
        "colab_type": "code",
        "colab": {}
      },
      "cell_type": "code",
      "source": [
        ""
      ],
      "execution_count": 0,
      "outputs": []
    }
  ]
}